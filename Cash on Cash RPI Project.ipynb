{
 "cells": [
  {
   "cell_type": "code",
   "execution_count": 115,
   "id": "3350abda",
   "metadata": {},
   "outputs": [
    {
     "name": "stdout",
     "output_type": "stream",
     "text": [
      "Do you want to play?  Yes or No?  yes\n",
      "Winnings: $0\n",
      "\n",
      "How much do you want to bet?  $5\n",
      "Dealer showing 9\n",
      "Player: 16  Hit or Stay?  stay\n",
      "Dealer: 17\n",
      "You lose.\n",
      "Do you want to play?  Yes or No?  no\n",
      "\n",
      "Sorry, you lost $5.\n",
      "Better luck next time!  \n"
     ]
    }
   ],
   "source": []
  },
  {
   "cell_type": "code",
   "execution_count": 112,
   "id": "03912e19",
   "metadata": {},
   "outputs": [
    {
     "name": "stdout",
     "output_type": "stream",
     "text": [
      "What rent are you charging on this property?  2000\n",
      "What is the total cost of this property?  200000\n",
      "Will you be paying for utilities?  Yes or No?  yes\n",
      "How much is your utilities cost per month?  100\n",
      "What is your HOA cost per month?  50\n",
      "Will you charge for lawn care and snow removal per month?  Yes or No?  no\n",
      "What down payment will you be making on the property?  40000\n",
      "What is your interest rate?  Do not include the percent sign.  4\n",
      "In years, how long is your timeline for paying off your mortgage?  30\n",
      "What are your closing costs?  3000\n",
      "Are there any other costs to this property?  Yes or No?  yes\n",
      "How much are your other costs?  5\n",
      "\n",
      "Here are your results:\n",
      "Monthly income: $2000\n",
      "Monthly expenses: $1663\n",
      "Monthly Cash Flow: $337\n",
      "Cash on Cash Return on Investment: 8.087191280871913%\n"
     ]
    }
   ],
   "source": [
    "### Calculation of Rental Income ###\n",
    "\n",
    "class RentalIncome():\n",
    "    \n",
    "    def income(self, income = 0, laundry = 0, storage = 0, misc = 0):\n",
    "        self.income = input('What rent are you charging on this property?  ')\n",
    "        \n",
    "    def expenses(self):\n",
    "        self.cost = input('What is the total cost of this property?  ')\n",
    "        self.tax = 0.075*int(self.income)\n",
    "        self.insurance = 0.05*int(self.income)\n",
    "        self.utilities = input('Will you be paying for utilities?  Yes or No?  ')\n",
    "        if self.utilities.lower() == 'yes':\n",
    "            self.utilities = input('How much is your utilities cost per month?  ')\n",
    "        elif self.utilities.lower() == 'no':\n",
    "            self.utilities = 0\n",
    "        self.HOA = input('What is your HOA cost per month?  ')\n",
    "        self.lawn_care = input('Will you charge for lawn care and snow removal per month?  Yes or No?  ')\n",
    "        if self.lawn_care.lower() == 'yes':\n",
    "            self.lawn_care = input('How much will you charge for lawn care and snow removal?  ')\n",
    "        else:\n",
    "            self.lawn_care = 0\n",
    "        self.vacancy = 0.05*int(self.income)\n",
    "        self.repairs = 0.05*int(self.income)\n",
    "        self.cap_x = 0.05*int(self.income)\n",
    "        self.property_manager = 0.1*int(self.income)\n",
    "        self.down_payment = int(input('What down payment will you be making on the property?  '))\n",
    "        P = int(self.cost) - int(self.down_payment)\n",
    "        i = (0.01*int(input('What is your interest rate?  Do not include the percent sign.  ')))/12\n",
    "        n = 12*int(input('In years, how long is your timeline for paying off your mortgage?  '))\n",
    "        self.mortgage = P*(i*(1 + i)**n )/((1 + i)**n - 1)\n",
    "        \n",
    "        self.total_expenses = int(self.tax)+int(self.insurance)+int(self.utilities)+int(self.HOA)-int(self.lawn_care)+int(self.vacancy)+int(self.repairs)+int(self.cap_x)+int(self.property_manager)+int(self.mortgage)\n",
    "        \n",
    "    def cashFlow(self):\n",
    "        self.cash = int(self.income) - int(self.total_expenses)\n",
    "        \n",
    "    def cashOnCashROI(self):\n",
    "        self.closing_costs = input('What are your closing costs?  ')\n",
    "        self.repair = 0.035*int(self.cost)\n",
    "        self.other_cost = input('Are there any other costs to this property?  Yes or No?  ')\n",
    "        if self.other_cost.lower() == 'yes':\n",
    "            self.other_cost = input('How much are your other costs?  ')\n",
    "        elif self.other_cost.lower() == 'no':\n",
    "            self.other_cost = 0\n",
    "        \n",
    "        self.total_investment = int(self.down_payment) + int(self.closing_costs) + int(self.repair) + int(self.other_cost)\n",
    "        \n",
    "        self.cashoncash = 100*((12*int(self.cash))/int(self.total_investment))\n",
    "    \n",
    "    \n",
    "    def Run(self):\n",
    "        self.income()\n",
    "        self.expenses()\n",
    "        self.cashFlow()\n",
    "        self.cashOnCashROI()\n",
    "        print(f'\\nHere are your results:')\n",
    "        print(f'Monthly income: ${self.income}')\n",
    "        print(f'Monthly expenses: ${self.total_expenses}')\n",
    "        print(f'Monthly Cash Flow: ${self.cash}')\n",
    "        print(f'Cash on Cash Return on Investment: {self.cashoncash}%')\n",
    "    \n",
    "property = RentalIncome()\n",
    "property.Run()\n",
    "    "
   ]
  }
 ],
 "metadata": {
  "kernelspec": {
   "display_name": "Python 3 (ipykernel)",
   "language": "python",
   "name": "python3"
  },
  "language_info": {
   "codemirror_mode": {
    "name": "ipython",
    "version": 3
   },
   "file_extension": ".py",
   "mimetype": "text/x-python",
   "name": "python",
   "nbconvert_exporter": "python",
   "pygments_lexer": "ipython3",
   "version": "3.9.13"
  }
 },
 "nbformat": 4,
 "nbformat_minor": 5
}
